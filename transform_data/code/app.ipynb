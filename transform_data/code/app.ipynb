{
 "cells": [
  {
   "cell_type": "markdown",
   "id": "6c5dc1e9",
   "metadata": {},
   "source": [
    "---\n",
    "**Import packages**"
   ]
  },
  {
   "cell_type": "code",
   "execution_count": 125,
   "id": "967fd97f",
   "metadata": {},
   "outputs": [],
   "source": [
    "import json\n",
    "import pandas as pd"
   ]
  },
  {
   "cell_type": "markdown",
   "id": "057ab445",
   "metadata": {},
   "source": [
    "----\n",
    "**Fetching data**"
   ]
  },
  {
   "cell_type": "code",
   "execution_count": 126,
   "id": "de5bff6a",
   "metadata": {},
   "outputs": [
    {
     "data": {
      "text/html": [
       "<div>\n",
       "<style scoped>\n",
       "    .dataframe tbody tr th:only-of-type {\n",
       "        vertical-align: middle;\n",
       "    }\n",
       "\n",
       "    .dataframe tbody tr th {\n",
       "        vertical-align: top;\n",
       "    }\n",
       "\n",
       "    .dataframe thead th {\n",
       "        text-align: right;\n",
       "    }\n",
       "</style>\n",
       "<table border=\"1\" class=\"dataframe\">\n",
       "  <thead>\n",
       "    <tr style=\"text-align: right;\">\n",
       "      <th></th>\n",
       "      <th>id</th>\n",
       "      <th>comm_type</th>\n",
       "      <th>raw_content</th>\n",
       "      <th>source_id</th>\n",
       "      <th>ingested_at</th>\n",
       "      <th>processed_at</th>\n",
       "      <th>is_processed</th>\n",
       "      <th>subject</th>\n",
       "    </tr>\n",
       "  </thead>\n",
       "  <tbody>\n",
       "    <tr>\n",
       "      <th>0</th>\n",
       "      <td>de819d74-9b7d-4b60-863c-5f7f634a6402</td>\n",
       "      <td>call</td>\n",
       "      <td>{\"id\": \"DDCD444CF2A04CA1BA108EE5\", \"title\": \"U...</td>\n",
       "      <td>32A19D011A4C41F09FE3A2FB</td>\n",
       "      <td>2025-06-12T13:29:09</td>\n",
       "      <td>2025-03-22T11:37:50</td>\n",
       "      <td>True</td>\n",
       "      <td>Profit-focused composite time-frame</td>\n",
       "    </tr>\n",
       "    <tr>\n",
       "      <th>1</th>\n",
       "      <td>d4746716-3350-4e7f-952f-b39a8dc430d3</td>\n",
       "      <td>call</td>\n",
       "      <td>{\"id\": \"E462A7000DCA4A688FB880B3\", \"title\": \"E...</td>\n",
       "      <td>485F87C4F6E34F3189D1E3E9</td>\n",
       "      <td>2025-03-11T19:29:43</td>\n",
       "      <td>2025-03-06T01:09:40</td>\n",
       "      <td>True</td>\n",
       "      <td>Ergonomic dedicated process improvement</td>\n",
       "    </tr>\n",
       "    <tr>\n",
       "      <th>2</th>\n",
       "      <td>e509a9f2-c9a0-4ad0-9489-e22825e40488</td>\n",
       "      <td>meeting</td>\n",
       "      <td>{\"id\": \"66DE26DE41BC462AAE1BA7C8\", \"title\": \"S...</td>\n",
       "      <td>B7E98770F4A542729D65AF41</td>\n",
       "      <td>2025-03-27T06:41:29</td>\n",
       "      <td>2025-01-12T01:51:05</td>\n",
       "      <td>True</td>\n",
       "      <td>Focused clear-thinking parallelism</td>\n",
       "    </tr>\n",
       "    <tr>\n",
       "      <th>3</th>\n",
       "      <td>77fb5908-4181-45b8-b484-f7bd4dd294c9</td>\n",
       "      <td>meeting</td>\n",
       "      <td>{\"id\": \"69D47DC9F39A4AA29B34AEFD\", \"title\": \"S...</td>\n",
       "      <td>7A00DCB707B74395B2DD552F</td>\n",
       "      <td>2025-05-06T02:23:25</td>\n",
       "      <td>2025-03-04T16:29:27</td>\n",
       "      <td>True</td>\n",
       "      <td>Re-engineered object-oriented emulation</td>\n",
       "    </tr>\n",
       "    <tr>\n",
       "      <th>4</th>\n",
       "      <td>6ba3fa0e-41c1-4ed6-a782-900cc6af3580</td>\n",
       "      <td>call</td>\n",
       "      <td>{\"id\": \"0D1BABD93ED04F099F2BCE2D\", \"title\": \"S...</td>\n",
       "      <td>1C96310A145B445799924A8F</td>\n",
       "      <td>2025-05-09T05:48:27</td>\n",
       "      <td>2025-05-07T15:35:37</td>\n",
       "      <td>True</td>\n",
       "      <td>Focused 24hour policy</td>\n",
       "    </tr>\n",
       "  </tbody>\n",
       "</table>\n",
       "</div>"
      ],
      "text/plain": [
       "                                     id comm_type  \\\n",
       "0  de819d74-9b7d-4b60-863c-5f7f634a6402      call   \n",
       "1  d4746716-3350-4e7f-952f-b39a8dc430d3      call   \n",
       "2  e509a9f2-c9a0-4ad0-9489-e22825e40488   meeting   \n",
       "3  77fb5908-4181-45b8-b484-f7bd4dd294c9   meeting   \n",
       "4  6ba3fa0e-41c1-4ed6-a782-900cc6af3580      call   \n",
       "\n",
       "                                         raw_content  \\\n",
       "0  {\"id\": \"DDCD444CF2A04CA1BA108EE5\", \"title\": \"U...   \n",
       "1  {\"id\": \"E462A7000DCA4A688FB880B3\", \"title\": \"E...   \n",
       "2  {\"id\": \"66DE26DE41BC462AAE1BA7C8\", \"title\": \"S...   \n",
       "3  {\"id\": \"69D47DC9F39A4AA29B34AEFD\", \"title\": \"S...   \n",
       "4  {\"id\": \"0D1BABD93ED04F099F2BCE2D\", \"title\": \"S...   \n",
       "\n",
       "                  source_id          ingested_at         processed_at  \\\n",
       "0  32A19D011A4C41F09FE3A2FB  2025-06-12T13:29:09  2025-03-22T11:37:50   \n",
       "1  485F87C4F6E34F3189D1E3E9  2025-03-11T19:29:43  2025-03-06T01:09:40   \n",
       "2  B7E98770F4A542729D65AF41  2025-03-27T06:41:29  2025-01-12T01:51:05   \n",
       "3  7A00DCB707B74395B2DD552F  2025-05-06T02:23:25  2025-03-04T16:29:27   \n",
       "4  1C96310A145B445799924A8F  2025-05-09T05:48:27  2025-05-07T15:35:37   \n",
       "\n",
       "   is_processed                                  subject  \n",
       "0          True      Profit-focused composite time-frame  \n",
       "1          True  Ergonomic dedicated process improvement  \n",
       "2          True       Focused clear-thinking parallelism  \n",
       "3          True  Re-engineered object-oriented emulation  \n",
       "4          True                    Focused 24hour policy  "
      ]
     },
     "execution_count": 126,
     "metadata": {},
     "output_type": "execute_result"
    }
   ],
   "source": [
    "df = pd.read_excel(\"../data/raw_data.xlsx\")\n",
    "df.head()"
   ]
  },
  {
   "cell_type": "markdown",
   "id": "f611e737",
   "metadata": {},
   "source": [
    "---\n",
    "**Analyse Data**"
   ]
  },
  {
   "cell_type": "code",
   "execution_count": 127,
   "id": "16629391",
   "metadata": {},
   "outputs": [
    {
     "data": {
      "text/plain": [
       "id              0\n",
       "comm_type       0\n",
       "raw_content     0\n",
       "source_id       0\n",
       "ingested_at     0\n",
       "processed_at    0\n",
       "is_processed    0\n",
       "subject         0\n",
       "dtype: int64"
      ]
     },
     "execution_count": 127,
     "metadata": {},
     "output_type": "execute_result"
    }
   ],
   "source": [
    "df.isna().sum()"
   ]
  },
  {
   "cell_type": "code",
   "execution_count": 128,
   "id": "89af6b00",
   "metadata": {},
   "outputs": [
    {
     "data": {
      "text/plain": [
       "Index(['id', 'comm_type', 'raw_content', 'source_id', 'ingested_at',\n",
       "       'processed_at', 'is_processed', 'subject'],\n",
       "      dtype='object')"
      ]
     },
     "execution_count": 128,
     "metadata": {},
     "output_type": "execute_result"
    }
   ],
   "source": [
    "columns = df.columns\n",
    "columns"
   ]
  },
  {
   "cell_type": "markdown",
   "id": "391c1fe6",
   "metadata": {},
   "source": [
    "---\n",
    "**Cleaning raw_content**"
   ]
  },
  {
   "cell_type": "code",
   "execution_count": 129,
   "id": "7f8635d2",
   "metadata": {},
   "outputs": [
    {
     "name": "stdout",
     "output_type": "stream",
     "text": [
      "JSON decode error: Expecting value: line 1 column 1 (char 0)\n"
     ]
    }
   ],
   "source": [
    "json_data = df['raw_content']\n",
    "data = []\n",
    "\n",
    "decoder = json.JSONDecoder()\n",
    "\n",
    "for line in json_data:\n",
    "    s = line.strip()\n",
    "    while s:\n",
    "        try:\n",
    "            obj, idx = decoder.raw_decode(s)\n",
    "            data.append(obj)\n",
    "            s = s[idx:].lstrip()\n",
    "        except json.JSONDecodeError as e:\n",
    "            print(f\"JSON decode error: {e}\")\n",
    "            break"
   ]
  },
  {
   "cell_type": "code",
   "execution_count": 130,
   "id": "d37d5059",
   "metadata": {},
   "outputs": [],
   "source": [
    "def json_to_df(item: dict):\n",
    "    content_data = {\n",
    "        'id': item['id'],\n",
    "        'title': item['title'],\n",
    "        'duration': item['duration'],\n",
    "        'audio_url': item['audio_url'],\n",
    "        'video_url': item['video_url'],\n",
    "        'date_string': item['dateString'],\n",
    "        'host_email': item['host_email'],\n",
    "        'calendar': item['calendar_id'],\n",
    "        'transcript_url': item['transcript_url'],\n",
    "        'organizer_email': item['organizer_email']\n",
    "    }\n",
    "    df_content = pd.DataFrame([content_data])\n",
    "\n",
    "    df_speakers = pd.DataFrame(item['speakers'])\n",
    "    df_speakers['content_id'] = item['id']\n",
    "\n",
    "    df_participants = pd.DataFrame(item['participants'], columns=['email'])\n",
    "    df_participants['content_id'] = item['id']\n",
    "\n",
    "    df_attendees = pd.DataFrame(item['meeting_attendees'])\n",
    "    df_attendees['content_id'] = item['id']\n",
    "\n",
    "    return df_content, df_speakers, df_participants,df_attendees"
   ]
  },
  {
   "cell_type": "markdown",
   "id": "a0b81929",
   "metadata": {},
   "source": [
    "---\n",
    "**Seperate table from column**"
   ]
  },
  {
   "cell_type": "code",
   "execution_count": 131,
   "id": "d4c05b10",
   "metadata": {},
   "outputs": [],
   "source": [
    "def seperate(table, column):\n",
    "    values = table[column].dropna().unique()\n",
    "    new_table = pd.DataFrame({\n",
    "        'id': range(1, len(values) + 1),\n",
    "        'name': values\n",
    "    })\n",
    "    map_table = dict(zip(new_table['name'], new_table['id']))\n",
    "    table[column] = table[column].map(map_table)\n",
    "    return new_table, table"
   ]
  },
  {
   "cell_type": "markdown",
   "id": "9bc9502c",
   "metadata": {},
   "source": [
    "---\n",
    "**Split data to tables**"
   ]
  },
  {
   "cell_type": "code",
   "execution_count": 132,
   "id": "379f4c6e",
   "metadata": {},
   "outputs": [],
   "source": [
    "Subject = df['subject'].dropna().unique()\n",
    "CommunicationType = df['comm_type'].dropna().unique()"
   ]
  },
  {
   "cell_type": "code",
   "execution_count": 134,
   "id": "667310ca",
   "metadata": {},
   "outputs": [],
   "source": [
    "CommunicationType = pd.DataFrame(CommunicationType, columns=['comm_type'])\n",
    "Subject = pd.DataFrame(Subject, columns=['name'])"
   ]
  },
  {
   "cell_type": "code",
   "execution_count": 135,
   "id": "6c697fcb",
   "metadata": {},
   "outputs": [
    {
     "data": {
      "text/html": [
       "<div>\n",
       "<style scoped>\n",
       "    .dataframe tbody tr th:only-of-type {\n",
       "        vertical-align: middle;\n",
       "    }\n",
       "\n",
       "    .dataframe tbody tr th {\n",
       "        vertical-align: top;\n",
       "    }\n",
       "\n",
       "    .dataframe thead th {\n",
       "        text-align: right;\n",
       "    }\n",
       "</style>\n",
       "<table border=\"1\" class=\"dataframe\">\n",
       "  <thead>\n",
       "    <tr style=\"text-align: right;\">\n",
       "      <th></th>\n",
       "      <th>id</th>\n",
       "      <th>name</th>\n",
       "    </tr>\n",
       "  </thead>\n",
       "  <tbody>\n",
       "    <tr>\n",
       "      <th>0</th>\n",
       "      <td>1</td>\n",
       "      <td>call</td>\n",
       "    </tr>\n",
       "    <tr>\n",
       "      <th>1</th>\n",
       "      <td>2</td>\n",
       "      <td>meeting</td>\n",
       "    </tr>\n",
       "  </tbody>\n",
       "</table>\n",
       "</div>"
      ],
      "text/plain": [
       "   id     name\n",
       "0   1     call\n",
       "1   2  meeting"
      ]
     },
     "execution_count": 135,
     "metadata": {},
     "output_type": "execute_result"
    }
   ],
   "source": [
    "comm_type, table = seperate(df, 'comm_type')\n",
    "comm_type"
   ]
  },
  {
   "cell_type": "code",
   "execution_count": 136,
   "id": "7888cd9e",
   "metadata": {},
   "outputs": [
    {
     "data": {
      "text/html": [
       "<div>\n",
       "<style scoped>\n",
       "    .dataframe tbody tr th:only-of-type {\n",
       "        vertical-align: middle;\n",
       "    }\n",
       "\n",
       "    .dataframe tbody tr th {\n",
       "        vertical-align: top;\n",
       "    }\n",
       "\n",
       "    .dataframe thead th {\n",
       "        text-align: right;\n",
       "    }\n",
       "</style>\n",
       "<table border=\"1\" class=\"dataframe\">\n",
       "  <thead>\n",
       "    <tr style=\"text-align: right;\">\n",
       "      <th></th>\n",
       "      <th>id</th>\n",
       "      <th>name</th>\n",
       "    </tr>\n",
       "  </thead>\n",
       "  <tbody>\n",
       "    <tr>\n",
       "      <th>0</th>\n",
       "      <td>1</td>\n",
       "      <td>Profit-focused composite time-frame</td>\n",
       "    </tr>\n",
       "    <tr>\n",
       "      <th>1</th>\n",
       "      <td>2</td>\n",
       "      <td>Ergonomic dedicated process improvement</td>\n",
       "    </tr>\n",
       "    <tr>\n",
       "      <th>2</th>\n",
       "      <td>3</td>\n",
       "      <td>Focused clear-thinking parallelism</td>\n",
       "    </tr>\n",
       "    <tr>\n",
       "      <th>3</th>\n",
       "      <td>4</td>\n",
       "      <td>Re-engineered object-oriented emulation</td>\n",
       "    </tr>\n",
       "    <tr>\n",
       "      <th>4</th>\n",
       "      <td>5</td>\n",
       "      <td>Focused 24hour policy</td>\n",
       "    </tr>\n",
       "    <tr>\n",
       "      <th>5</th>\n",
       "      <td>6</td>\n",
       "      <td>Realigned homogeneous circuit</td>\n",
       "    </tr>\n",
       "    <tr>\n",
       "      <th>6</th>\n",
       "      <td>7</td>\n",
       "      <td>Advanced cohesive extranet</td>\n",
       "    </tr>\n",
       "    <tr>\n",
       "      <th>7</th>\n",
       "      <td>8</td>\n",
       "      <td>Advanced needs-based product</td>\n",
       "    </tr>\n",
       "    <tr>\n",
       "      <th>8</th>\n",
       "      <td>9</td>\n",
       "      <td>Right-sized hybrid Graphic Interface</td>\n",
       "    </tr>\n",
       "    <tr>\n",
       "      <th>9</th>\n",
       "      <td>10</td>\n",
       "      <td>Right-sized scalable moratorium</td>\n",
       "    </tr>\n",
       "    <tr>\n",
       "      <th>10</th>\n",
       "      <td>11</td>\n",
       "      <td>Robust fresh-thinking conglomeration</td>\n",
       "    </tr>\n",
       "    <tr>\n",
       "      <th>11</th>\n",
       "      <td>12</td>\n",
       "      <td>Organized next generation orchestration</td>\n",
       "    </tr>\n",
       "    <tr>\n",
       "      <th>12</th>\n",
       "      <td>13</td>\n",
       "      <td>User-centric 3rdgeneration encoding</td>\n",
       "    </tr>\n",
       "    <tr>\n",
       "      <th>13</th>\n",
       "      <td>14</td>\n",
       "      <td>Automated leadingedge groupware</td>\n",
       "    </tr>\n",
       "    <tr>\n",
       "      <th>14</th>\n",
       "      <td>15</td>\n",
       "      <td>Ergonomic maximized circuit</td>\n",
       "    </tr>\n",
       "  </tbody>\n",
       "</table>\n",
       "</div>"
      ],
      "text/plain": [
       "    id                                     name\n",
       "0    1      Profit-focused composite time-frame\n",
       "1    2  Ergonomic dedicated process improvement\n",
       "2    3       Focused clear-thinking parallelism\n",
       "3    4  Re-engineered object-oriented emulation\n",
       "4    5                    Focused 24hour policy\n",
       "5    6            Realigned homogeneous circuit\n",
       "6    7               Advanced cohesive extranet\n",
       "7    8             Advanced needs-based product\n",
       "8    9     Right-sized hybrid Graphic Interface\n",
       "9   10          Right-sized scalable moratorium\n",
       "10  11     Robust fresh-thinking conglomeration\n",
       "11  12  Organized next generation orchestration\n",
       "12  13      User-centric 3rdgeneration encoding\n",
       "13  14          Automated leadingedge groupware\n",
       "14  15              Ergonomic maximized circuit"
      ]
     },
     "execution_count": 136,
     "metadata": {},
     "output_type": "execute_result"
    }
   ],
   "source": [
    "subject, table = seperate(df, 'subject')\n",
    "subject"
   ]
  },
  {
   "cell_type": "code",
   "execution_count": 137,
   "id": "f66f8df0",
   "metadata": {},
   "outputs": [],
   "source": [
    "content_ids = [item['id'] for item in data]\n",
    "df['content_id'] = content_ids"
   ]
  },
  {
   "cell_type": "code",
   "execution_count": 138,
   "id": "be9f1e51",
   "metadata": {},
   "outputs": [],
   "source": [
    "Communication = df[['id','comm_type', 'source_id', 'ingested_at', 'processed_at', 'is_processed', 'content_id', 'subject']]"
   ]
  },
  {
   "cell_type": "code",
   "execution_count": 140,
   "id": "b27e74d3",
   "metadata": {},
   "outputs": [],
   "source": [
    "all_content = []\n",
    "all_speakers = []\n",
    "all_participants = []\n",
    "all_attendees = []\n",
    "\n",
    "for item in data:\n",
    "    df_content, df_speakers, df_participants, df_attendees = json_to_df(item)\n",
    "    all_content.append(df_content)\n",
    "    all_speakers.append(df_speakers)\n",
    "    all_participants.append(df_participants)\n",
    "    all_attendees.append(df_attendees)\n",
    "\n",
    "df_all_content = pd.concat(all_content, ignore_index=True)\n",
    "df_all_speakers = pd.concat(all_speakers, ignore_index=True)\n",
    "df_all_participants = pd.concat(all_participants, ignore_index=True)\n",
    "df_all_attendees = pd.concat(all_attendees, ignore_index=True)\n"
   ]
  },
  {
   "cell_type": "markdown",
   "id": "7d242b59",
   "metadata": {},
   "source": [
    "---\n",
    "**Database**"
   ]
  },
  {
   "cell_type": "code",
   "execution_count": 141,
   "id": "3e895ea9",
   "metadata": {},
   "outputs": [],
   "source": [
    "import pyodbc\n",
    "\n",
    "conn = pyodbc.connect(\n",
    "    \"DRIVER={ODBC Driver 17 for SQL Server};\"\n",
    "    \"SERVER=DESKTOP-L0MHKPI\\\\SQLEXPRESS;\"\n",
    "    \"DATABASE=data_tranformation;\"\n",
    "    \"Trusted_Connection=yes;\"\n",
    ")\n",
    "cursor = conn.cursor()\n"
   ]
  },
  {
   "cell_type": "code",
   "execution_count": 142,
   "id": "2122aaef",
   "metadata": {},
   "outputs": [],
   "source": [
    "for _, row in df_all_content.iterrows():\n",
    "    cursor.execute(\"\"\"\n",
    "        INSERT INTO Content (\n",
    "            ID, Title, Duration, AudioUrl, VideoUrl, Date, HostEmail,\n",
    "            CalendarRef, TranscriptUrl, OrganizerEmail\n",
    "        ) VALUES (?, ?, ?, ?, ?, ?, ?, ?, ?, ?)\n",
    "    \"\"\", row['id'], row['title'], row['duration'], row['audio_url'], row['video_url'],\n",
    "            row['date_string'], row['host_email'], row['calendar'],\n",
    "            row['transcript_url'], row['organizer_email'])"
   ]
  },
  {
   "cell_type": "code",
   "execution_count": 143,
   "id": "b92ef3a1",
   "metadata": {},
   "outputs": [],
   "source": [
    "for _, row in df_all_speakers.iterrows():\n",
    "    cursor.execute(\"\"\"\n",
    "        INSERT INTO Speaker (Name, ContentID) VALUES (?, ?)\n",
    "    \"\"\", row['name'], row['content_id'])"
   ]
  },
  {
   "cell_type": "code",
   "execution_count": 144,
   "id": "ba64e764",
   "metadata": {},
   "outputs": [],
   "source": [
    "for _, row in df_all_participants.iterrows():\n",
    "    cursor.execute(\"\"\"\n",
    "        INSERT INTO Participant (Email, ContentID) VALUES (?, ?)\n",
    "    \"\"\", row['email'], row['content_id'])\n"
   ]
  },
  {
   "cell_type": "code",
   "execution_count": 145,
   "id": "1956bf7c",
   "metadata": {},
   "outputs": [],
   "source": [
    "for _, row in df_all_attendees.iterrows():\n",
    "    cursor.execute(\"\"\"\n",
    "        INSERT INTO MeetingAttendees (\n",
    "            Name, Email, Location, DisplayName, PhoneNumber, ContentID\n",
    "        ) VALUES (?, ?, ?, ?, ?, ?)\n",
    "    \"\"\", row['name'], row['email'], row['location'],\n",
    "         row['displayName'], row['phoneNumber'], row['content_id'])\n"
   ]
  },
  {
   "cell_type": "code",
   "execution_count": null,
   "id": "4d1623b7",
   "metadata": {},
   "outputs": [],
   "source": []
  },
  {
   "cell_type": "code",
   "execution_count": 146,
   "id": "587ade76",
   "metadata": {},
   "outputs": [],
   "source": [
    "for _, row in CommunicationType.iterrows():\n",
    "    cursor.execute(\"\"\"\n",
    "        INSERT INTO CommunicationTypes (Name) VALUES (?)\n",
    "    \"\"\", row['comm_type'])"
   ]
  },
  {
   "cell_type": "code",
   "execution_count": 147,
   "id": "9fd3b7a8",
   "metadata": {},
   "outputs": [],
   "source": [
    "for _, row in Subject.iterrows():\n",
    "    cursor.execute(\"\"\"\n",
    "        INSERT INTO Subject (Name) VALUES (?)\n",
    "    \"\"\", row['name'])"
   ]
  },
  {
   "cell_type": "code",
   "execution_count": 148,
   "id": "13a13634",
   "metadata": {},
   "outputs": [],
   "source": [
    "for _, row in Communication.iterrows():\n",
    "    cursor.execute(\"\"\"\n",
    "        INSERT INTO Communication (\n",
    "            ID, CommunicationTypeID, ContentID, SourceID, IngestedAt, ProcessedAt, IsProcessed, SubjectID\n",
    "        ) VALUES (?, ?, ?, ?, ?, ?, ?, ?)\n",
    "    \"\"\", row['id'], row['comm_type'], row['content_id'],\n",
    "         row['source_id'], row['ingested_at'],\n",
    "         row['processed_at'], row['is_processed'], row['subject'])"
   ]
  },
  {
   "cell_type": "code",
   "execution_count": 149,
   "id": "3385a832",
   "metadata": {},
   "outputs": [],
   "source": [
    "conn.commit()\n",
    "cursor.close()\n",
    "conn.close()"
   ]
  }
 ],
 "metadata": {
  "kernelspec": {
   "display_name": "venv",
   "language": "python",
   "name": "python3"
  },
  "language_info": {
   "codemirror_mode": {
    "name": "ipython",
    "version": 3
   },
   "file_extension": ".py",
   "mimetype": "text/x-python",
   "name": "python",
   "nbconvert_exporter": "python",
   "pygments_lexer": "ipython3",
   "version": "3.13.3"
  }
 },
 "nbformat": 4,
 "nbformat_minor": 5
}
