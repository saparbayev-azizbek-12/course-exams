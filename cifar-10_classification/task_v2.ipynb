{
 "cells": [
  {
   "cell_type": "markdown",
   "id": "6088fb48",
   "metadata": {},
   "source": [
    "## Import packages and download dataset"
   ]
  },
  {
   "cell_type": "code",
   "execution_count": 1,
   "id": "e1827695",
   "metadata": {},
   "outputs": [],
   "source": [
    "import pickle\n",
    "import numpy as np\n",
    "import pandas as pd"
   ]
  },
  {
   "cell_type": "code",
   "execution_count": 2,
   "id": "393fe00d",
   "metadata": {},
   "outputs": [
    {
     "name": "stdout",
     "output_type": "stream",
     "text": [
      "Train: (50000, 3, 32, 32) (50000,)\n",
      "Test : (10000, 3, 32, 32) (10000,)\n",
      "   label\n",
      "0      6\n",
      "1      9\n",
      "2      9\n",
      "3      4\n",
      "4      1\n"
     ]
    }
   ],
   "source": [
    "def unpickle(file):\n",
    "    with open(file, 'rb') as fo:\n",
    "        dict = pickle.load(fo, encoding='bytes')\n",
    "    return dict\n",
    "data = []\n",
    "labels = []\n",
    "for i in range(1, 6):\n",
    "    batch = unpickle(f\"data/cifar-10-batches-py/data_batch_{i}\")\n",
    "    data.append(batch[b'data'])\n",
    "    labels.extend(batch[b'labels'])\n",
    "X_train = np.vstack(data).reshape(-1, 3, 32, 32)\n",
    "y_train = np.array(labels)\n",
    "test_batch = unpickle(\"data/cifar-10-batches-py/test_batch\")\n",
    "X_test = test_batch[b'data'].reshape(-1, 3, 32, 32)\n",
    "y_test = np.array(test_batch[b'labels'])\n",
    "print(\"Train:\", X_train.shape, y_train.shape)\n",
    "print(\"Test :\", X_test.shape, y_test.shape)\n",
    "\n",
    "df_labels = pd.DataFrame(y_train, columns=[\"label\"])\n",
    "print(df_labels.head())\n",
    "\n",
    "X_train_flat = X_train.reshape(X_train.shape[0], -1)[:20000]\n",
    "X_test_flat = X_test.reshape(X_test.shape[0], -1)"
   ]
  },
  {
   "cell_type": "markdown",
   "id": "1d87faf5",
   "metadata": {},
   "source": [
    "## Standart Scaler"
   ]
  },
  {
   "cell_type": "code",
   "execution_count": 3,
   "id": "df982ace",
   "metadata": {},
   "outputs": [],
   "source": [
    "from sklearn.preprocessing import StandardScaler\n",
    "\n",
    "scl = StandardScaler()\n",
    "X_train_scaled = scl.fit_transform(X_train_flat)\n",
    "X_test_scaled = scl.transform(X_test_flat)"
   ]
  },
  {
   "cell_type": "markdown",
   "id": "7c919950",
   "metadata": {},
   "source": [
    "## PCA"
   ]
  },
  {
   "cell_type": "code",
   "execution_count": 4,
   "id": "19751301",
   "metadata": {},
   "outputs": [],
   "source": [
    "from sklearn.decomposition import PCA\n",
    "\n",
    "pca =PCA(n_components=0.95, random_state=42)\n",
    "X_train_pca = pca.fit_transform(X_train_scaled)\n",
    "X_test_pca = pca.transform(X_test_scaled)"
   ]
  },
  {
   "cell_type": "markdown",
   "id": "da6df1db",
   "metadata": {},
   "source": [
    "## Classification"
   ]
  },
  {
   "cell_type": "markdown",
   "id": "d241eedc",
   "metadata": {},
   "source": [
    "**ExtraTreeClassifier**"
   ]
  },
  {
   "cell_type": "code",
   "execution_count": 7,
   "id": "9928551b",
   "metadata": {},
   "outputs": [
    {
     "name": "stdout",
     "output_type": "stream",
     "text": [
      "ExtraTrees Accuracy: 0.4658\n"
     ]
    }
   ],
   "source": [
    "from sklearn.ensemble import ExtraTreesClassifier\n",
    "from sklearn.metrics import accuracy_score\n",
    "\n",
    "extra = ExtraTreesClassifier(\n",
    "    n_estimators=500,\n",
    "    max_depth=30,\n",
    "    max_features=\"sqrt\",\n",
    "    random_state=42,\n",
    "    n_jobs=-1\n",
    ")\n",
    "extra.fit(X_train_flat[:20000], y_train[:20000])\n",
    "\n",
    "y_pred_extra = extra.predict(X_test_flat)\n",
    "print(\"ExtraTrees Accuracy:\", accuracy_score(y_test, y_pred_extra))"
   ]
  },
  {
   "cell_type": "markdown",
   "id": "5c810fe7",
   "metadata": {},
   "source": [
    "**Kmeans (n_clusters=200)**"
   ]
  },
  {
   "cell_type": "code",
   "execution_count": 6,
   "id": "40c7cbee",
   "metadata": {},
   "outputs": [
    {
     "name": "stderr",
     "output_type": "stream",
     "text": [
      "c:\\Users\\TALABA\\Desktop\\cifar-10\\venv\\Lib\\site-packages\\joblib\\externals\\loky\\backend\\context.py:131: UserWarning: Could not find the number of physical cores for the following reason:\n",
      "[WinError 2] Не удается найти указанный файл\n",
      "Returning the number of logical cores instead. You can silence this warning by setting LOKY_MAX_CPU_COUNT to the number of cores you want to use.\n",
      "  warnings.warn(\n",
      "  File \"c:\\Users\\TALABA\\Desktop\\cifar-10\\venv\\Lib\\site-packages\\joblib\\externals\\loky\\backend\\context.py\", line 247, in _count_physical_cores\n",
      "    cpu_count_physical = _count_physical_cores_win32()\n",
      "                         ^^^^^^^^^^^^^^^^^^^^^^^^^^^^^\n",
      "  File \"c:\\Users\\TALABA\\Desktop\\cifar-10\\venv\\Lib\\site-packages\\joblib\\externals\\loky\\backend\\context.py\", line 299, in _count_physical_cores_win32\n",
      "    cpu_info = subprocess.run(\n",
      "               ^^^^^^^^^^^^^^^\n",
      "  File \"C:\\Users\\TALABA\\AppData\\Local\\Programs\\Python\\Python312\\Lib\\subprocess.py\", line 548, in run\n",
      "    with Popen(*popenargs, **kwargs) as process:\n",
      "         ^^^^^^^^^^^^^^^^^^^^^^^^^^^\n",
      "  File \"C:\\Users\\TALABA\\AppData\\Local\\Programs\\Python\\Python312\\Lib\\subprocess.py\", line 1026, in __init__\n",
      "    self._execute_child(args, executable, preexec_fn, close_fds,\n",
      "  File \"C:\\Users\\TALABA\\AppData\\Local\\Programs\\Python\\Python312\\Lib\\subprocess.py\", line 1538, in _execute_child\n",
      "    hp, ht, pid, tid = _winapi.CreateProcess(executable, args,\n",
      "                       ^^^^^^^^^^^^^^^^^^^^^^^^^^^^^^^^^^^^^^^\n"
     ]
    }
   ],
   "source": [
    "from sklearn.cluster import KMeans\n",
    "\n",
    "kmeans = KMeans(n_clusters=200, random_state=42, n_init=10)\n",
    "clusters = kmeans.fit_predict(X_train_flat)"
   ]
  },
  {
   "cell_type": "code",
   "execution_count": 8,
   "id": "088569c5",
   "metadata": {},
   "outputs": [
    {
     "name": "stdout",
     "output_type": "stream",
     "text": [
      "KNN Accuracy: 0.3317\n"
     ]
    }
   ],
   "source": [
    "from sklearn.neighbors import KNeighborsClassifier\n",
    "\n",
    "knn = KNeighborsClassifier(\n",
    "    n_neighbors=5\n",
    ")\n",
    "\n",
    "knn.fit(X_train_pca, y_train[:20000])\n",
    "\n",
    "y_pred_knn = knn.predict(X_test_pca)\n",
    "print(\"KNN Accuracy:\", accuracy_score(y_test, y_pred_knn))"
   ]
  },
  {
   "cell_type": "markdown",
   "id": "40025825",
   "metadata": {},
   "source": [
    "**XGBOOST**"
   ]
  },
  {
   "cell_type": "code",
   "execution_count": 9,
   "id": "0f4ba23b",
   "metadata": {},
   "outputs": [
    {
     "name": "stdout",
     "output_type": "stream",
     "text": [
      "XGB Accuracy: 0.494\n"
     ]
    }
   ],
   "source": [
    "from xgboost import XGBClassifier\n",
    "\n",
    "xgb = XGBClassifier(\n",
    "    n_estimators=300,\n",
    "    max_depth=6,\n",
    "    learning_rate=0.1,\n",
    "    subsample=0.8,\n",
    "    colsample_bytree=0.8,\n",
    "    tree_method=\"hist\",\n",
    "    random_state=42,\n",
    "    n_jobs=-1\n",
    ")\n",
    "\n",
    "xgb.fit(X_train_pca, y_train[:20000])\n",
    "\n",
    "y_pred_xgb = xgb.predict(X_test_pca)\n",
    "print(\"XGB Accuracy:\", accuracy_score(y_test, y_pred_xgb))"
   ]
  },
  {
   "cell_type": "markdown",
   "id": "c3e299a7",
   "metadata": {},
   "source": [
    "**Voting Classifier**"
   ]
  },
  {
   "cell_type": "code",
   "execution_count": 10,
   "id": "59fe97af",
   "metadata": {},
   "outputs": [
    {
     "name": "stdout",
     "output_type": "stream",
     "text": [
      "Voting CLF Accuracy: 0.4854\n"
     ]
    }
   ],
   "source": [
    "from sklearn.ensemble import VotingClassifier\n",
    "\n",
    "vot_clf = VotingClassifier(\n",
    "    estimators=[\n",
    "        (\"extra\", extra),\n",
    "        (\"knn\", knn),\n",
    "        (\"xgb\", xgb)\n",
    "    ],\n",
    "    weights=[2,1,2],\n",
    "    voting=\"hard\",\n",
    "    n_jobs=-1\n",
    ")\n",
    "\n",
    "vot_clf.fit(X_train_pca, y_train[:20000])\n",
    "\n",
    "y_pred_vot = vot_clf.predict(X_test_pca)\n",
    "print(\"Voting CLF Accuracy:\", accuracy_score(y_test, y_pred_vot))"
   ]
  },
  {
   "cell_type": "code",
   "execution_count": 15,
   "id": "cf8925a3",
   "metadata": {},
   "outputs": [
    {
     "data": {
      "text/plain": [
       "(array([3, 9, 8, 0, 6, 3, 1, 6, 2, 1, 8, 9, 3, 1, 9, 8, 5, 3, 8, 7, 1, 0]),\n",
       " array([3, 8, 8, 0, 6, 6, 1, 6, 3, 1, 0, 9, 5, 7, 9, 8, 5, 7, 8, 6, 7, 0]))"
      ]
     },
     "execution_count": 15,
     "metadata": {},
     "output_type": "execute_result"
    }
   ],
   "source": [
    "y_pred_xgb[:22], y_test[:22]"
   ]
  },
  {
   "cell_type": "markdown",
   "id": "2ff12583",
   "metadata": {},
   "source": [
    "## Visualisation"
   ]
  },
  {
   "cell_type": "code",
   "execution_count": 21,
   "id": "e5d77c5e",
   "metadata": {},
   "outputs": [],
   "source": [
    "c0 = X_train_pca[:10000][y_pred_xgb == 5]"
   ]
  },
  {
   "cell_type": "code",
   "execution_count": 23,
   "id": "3dbd92db",
   "metadata": {},
   "outputs": [
    {
     "data": {
      "text/plain": [
       "array([ 2.38008229e+01, -3.91704041e+01, -2.57905724e+00, -7.31525545e+00,\n",
       "       -2.11896540e-02,  8.43971770e+00,  5.97088937e+00,  1.78553416e+00,\n",
       "        8.37638960e-01,  6.32837978e+00, -5.40886064e+00,  9.49260445e+00,\n",
       "        3.41365742e+00, -1.55709089e+00,  4.24547640e+00, -9.13235376e+00,\n",
       "        2.57110770e+00,  3.56897577e+00, -5.88904278e+00, -5.80616684e+00,\n",
       "       -5.16050754e+00, -1.89771912e+00, -3.21421889e+00, -5.80095951e+00,\n",
       "       -1.22840912e+00,  2.26532977e+00, -3.73136837e-01, -8.34561754e+00,\n",
       "        4.41428999e+00,  1.90386364e+00,  4.84791498e-01, -9.39787947e-01,\n",
       "        3.44983039e+00,  3.57011701e+00,  7.05062951e+00,  2.96853696e+00,\n",
       "       -1.60315908e+00, -8.07926835e-02, -3.20509466e-01,  1.53866123e+00,\n",
       "       -5.63835872e+00,  3.21211560e+00, -9.56415952e-02, -1.20927209e+00,\n",
       "        1.22575625e+00,  4.95535702e+00, -3.27686045e+00, -6.65823683e-01,\n",
       "        2.77364975e-01, -6.26229852e-01,  1.93925509e+00, -2.74049319e+00,\n",
       "        3.56299127e+00, -1.00368091e+00,  4.89298803e-01,  7.38487499e-01,\n",
       "       -1.77383185e+00, -6.84169214e-01,  4.11575136e+00, -2.48166789e+00,\n",
       "       -2.41026444e+00,  2.19473731e+00, -7.25200831e-01, -3.04751294e+00,\n",
       "       -1.96801247e+00, -1.43360429e+00,  2.83164532e+00,  2.07432213e+00,\n",
       "        2.76894171e+00, -1.56930241e+00, -7.54297229e-01,  4.55263421e-01,\n",
       "       -7.43335730e-01, -5.98284801e-01,  2.57833891e+00,  4.30621904e-01,\n",
       "        6.98169989e-01,  3.98769558e+00, -1.43129710e+00, -1.25968757e+00,\n",
       "        1.24023574e+00,  1.54589674e+00, -8.72360318e-01, -2.34551302e-01,\n",
       "        8.16179181e-01,  1.55148042e+00,  5.52615668e-01,  5.62015133e-01,\n",
       "       -4.58998002e-01, -2.38651277e+00,  1.60811644e+00, -2.53498574e+00,\n",
       "        2.03982648e+00,  5.06792443e+00, -6.19578922e-01, -2.69660329e+00,\n",
       "        2.16886627e+00, -4.27465033e-01,  5.41553495e-01, -8.73181483e-01,\n",
       "       -6.15132200e-02,  1.91720446e+00,  1.42122745e-01, -4.99651987e-01,\n",
       "        9.10230315e-01,  1.16888529e+00, -1.66838642e+00, -2.35788229e-01,\n",
       "       -7.52028777e-01,  1.62989473e+00,  1.24628782e+00,  3.61932063e-01,\n",
       "        1.54220135e-01, -6.69645886e-01,  2.43786237e-01, -2.47035214e+00,\n",
       "        2.18691072e+00, -1.00588093e-01,  1.03977459e+00,  1.79145810e+00,\n",
       "       -1.35412224e+00, -9.62032707e-01, -1.04828062e-01, -7.03450711e-02,\n",
       "       -1.79870195e+00,  6.15411359e-01,  1.03789833e+00, -4.00294463e-01,\n",
       "        7.08602981e-01, -2.80671304e-01,  4.30802455e-01,  4.39113872e-02,\n",
       "        4.12728869e-01, -2.42112556e+00, -2.39764662e+00, -5.10122805e-02,\n",
       "       -5.18777213e-01,  1.54022738e-01,  4.58998817e-02, -7.32784245e-01,\n",
       "       -8.95133046e-01, -7.49882633e-02,  2.55456303e-01,  9.02078967e-01,\n",
       "       -3.42296850e-02, -2.00125682e+00, -3.74741199e-01, -6.56448800e-01,\n",
       "        2.08155235e+00,  4.22658166e-01,  1.58403852e+00,  6.97267882e-01,\n",
       "        3.14219203e-01,  5.05275329e-02, -5.97146724e-01, -1.42608509e+00,\n",
       "       -1.23384812e+00,  4.40255501e-01, -2.37484412e-01, -3.06443251e-01,\n",
       "        1.27665134e+00, -1.06834341e+00,  3.32194374e-01,  6.46223060e-01,\n",
       "       -1.02290271e+00, -4.68748722e-01, -6.42830155e-01,  1.41636830e-01,\n",
       "        1.56258978e+00, -1.34536524e-01, -2.65413430e-01, -1.01512352e+00,\n",
       "       -7.76992380e-01,  1.24168328e+00, -9.50867939e-01,  1.04427388e+00,\n",
       "       -5.54306531e-01, -1.97843152e-01, -1.62324796e+00,  5.53122340e-01,\n",
       "        1.89031436e-01,  1.04082420e+00,  1.21431936e+00, -6.83129427e-01,\n",
       "       -9.41997704e-01,  1.89677024e-01,  1.12655282e+00,  6.52140126e-02,\n",
       "       -1.23915536e+00, -2.70793597e-02, -5.32909460e-01,  6.34443306e-02,\n",
       "        4.50629294e-01,  1.88650512e-01, -9.36337446e-01,  1.30091994e+00,\n",
       "        4.99994751e-01, -3.96564431e-01, -9.92419621e-01, -1.33348302e+00,\n",
       "        5.51567197e-01, -1.12859786e+00,  1.14883352e+00, -5.66628991e-01,\n",
       "       -9.20533739e-01, -1.01728004e+00,  2.20502364e-01,  6.52004515e-01,\n",
       "        5.05186072e-01, -3.28765764e-01, -1.07032002e-02,  4.37724884e-01,\n",
       "       -7.28921604e-02, -3.99200641e-01, -1.31322082e-01, -2.01971636e-01,\n",
       "        8.43693622e-01, -9.43524541e-01])"
      ]
     },
     "execution_count": 23,
     "metadata": {},
     "output_type": "execute_result"
    }
   ],
   "source": [
    "c0[0]"
   ]
  },
  {
   "cell_type": "code",
   "execution_count": null,
   "id": "a79a210f",
   "metadata": {},
   "outputs": [],
   "source": [
    "import numpy as np \n",
    "import matplotlib.pyplot as plt\n",
    "\n",
    "def imshow(row, label):\n",
    "    plt.imshow(np.transpose(row, (1, 2, 0)))\n",
    "    plt.title(str(label))\n",
    "    plt.axis('off')\n",
    "\n",
    "c0_reshaped = c0\n",
    "\n",
    "fig, axes = plt.subplots(8, 8, figsize=(16, 16))\n",
    "for i in range(8):\n",
    "    for j in range(8):\n",
    "        idx = 8*i + j\n",
    "        plt.sca(axes[i][j])\n",
    "        imshow(c0_reshaped[idx], y_train[idx])\n",
    "plt.show()"
   ]
  },
  {
   "cell_type": "code",
   "execution_count": null,
   "id": "4f6ab4eb",
   "metadata": {},
   "outputs": [],
   "source": [
    "class_names = [\n",
    "    'airplane', \n",
    "    'automobile', \n",
    "    'bird', \n",
    "    'cat', \n",
    "    'deer',\n",
    "    'dog', \n",
    "    'frog', \n",
    "    'horse', \n",
    "    'ship', \n",
    "    'truck'\n",
    "]"
   ]
  },
  {
   "cell_type": "code",
   "execution_count": null,
   "id": "de48f2dd",
   "metadata": {},
   "outputs": [
    {
     "data": {
      "image/png": "[encoded data removed]",
      "text/plain": [
       "<Figure size 200x200 with 1 Axes>"
      ]
     },
     "metadata": {},
     "output_type": "display_data"
    }
   ],
   "source": [
    "plt.figure(figsize=(2,2))\n",
    "n = 40\n",
    "plt.imshow(np.transpose(X_train[n], (1, 2, 0)))\n",
    "y_label = y_train[n]\n",
    "plt.title(f\"Label: {class_names[y_label]}\")\n",
    "plt.axis('off')\n",
    "plt.show()"
   ]
  }
 ],
 "metadata": {
  "kernelspec": {
   "display_name": "venv",
   "language": "python",
   "name": "python3"
  },
  "language_info": {
   "codemirror_mode": {
    "name": "ipython",
    "version": 3
   },
   "file_extension": ".py",
   "mimetype": "text/x-python",
   "name": "python",
   "nbconvert_exporter": "python",
   "pygments_lexer": "ipython3",
   "version": "3.13.3"
  }
 },
 "nbformat": 4,
 "nbformat_minor": 5
}
